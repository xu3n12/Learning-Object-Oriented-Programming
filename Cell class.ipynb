{
 "cells": [
  {
   "cell_type": "markdown",
   "id": "a5aaf892-0d72-47c8-9dcf-30b04bcc4b3d",
   "metadata": {},
   "source": [
    "# Cell class"
   ]
  },
  {
   "cell_type": "markdown",
   "id": "b28aa129-4b72-4fd8-a511-b7d3822f0c44",
   "metadata": {},
   "source": [
    "**Description:** This is the first notebook used to learn object oriented programming. As such, I created my first class of objects. I chose cells because of its simplicity and fundamental nature eventhough I have a physics degree."
   ]
  },
  {
   "cell_type": "code",
   "execution_count": null,
   "id": "f6c864b4-6b47-43c2-bdd5-8f7eddeae037",
   "metadata": {},
   "outputs": [],
   "source": [
    "# Object: anything\n",
    "class Cell:\n",
    "    # Attribute: attributes which makes the object unique from other objects in the class\n",
    "    def __init__(self, name, size, n): \n",
    "        self.name = name # type of cell \n",
    "        self.size = size # in micrometers\n",
    "        self.n = n \n",
    "    # Method: things that this class of objects can do \n",
    "    def replicate(self): # standard\n",
    "        return self.n *2\n",
    "    def move_to(self, x, y,dx,dy):\n",
    "        return (x+dx,y+dy)\n",
    "    def get_name(self): # get_info\n",
    "        return self.name\n",
    "    def get_size(self):\n",
    "        return self.size\n",
    "f = Cell('fungi', 10, 80)\n",
    "p = Cell('plant', 100, 1)\n",
    "b = Cell('bacteria', 2, 19)"
   ]
  },
  {
   "cell_type": "code",
   "execution_count": 58,
   "id": "1da0c9ad-f452-4712-9fdf-a5c0825409ae",
   "metadata": {},
   "outputs": [
    {
     "data": {
      "text/plain": [
       "2"
      ]
     },
     "execution_count": 58,
     "metadata": {},
     "output_type": "execute_result"
    }
   ],
   "source": [
    "p.replicate()"
   ]
  },
  {
   "cell_type": "code",
   "execution_count": 59,
   "id": "6ab249b2-7312-4a3b-9cfb-b74d6e0e0867",
   "metadata": {},
   "outputs": [
    {
     "data": {
      "text/plain": [
       "(1, 2)"
      ]
     },
     "execution_count": 59,
     "metadata": {},
     "output_type": "execute_result"
    }
   ],
   "source": [
    "p.move_to(0,0,1,2)"
   ]
  },
  {
   "cell_type": "code",
   "execution_count": 128,
   "id": "1c70111e-a221-40b7-bf39-f21f7ee67973",
   "metadata": {},
   "outputs": [
    {
     "name": "stdout",
     "output_type": "stream",
     "text": [
      "bacteria\n",
      "plant\n",
      "fungi\n"
     ]
    }
   ],
   "source": [
    "print(b.get_name())\n",
    "print(p.get_name())\n",
    "print(f.get_name())"
   ]
  },
  {
   "cell_type": "code",
   "execution_count": 138,
   "id": "b0a5c865-a4ef-4a35-9c68-36055847653e",
   "metadata": {},
   "outputs": [],
   "source": [
    "class Surface:\n",
    "    def __init__(self, name, max_space):#occupied_space\n",
    "        self.name = name\n",
    "        self.max_space = max_space\n",
    "        self.cells = [] # attribute which is not needed to be one of the arguments passed\n",
    "        #self.occupied_space = []\n",
    "    def add_cells(self,cell):\n",
    "        if cell not in self.cells:\n",
    "            self.cells.append(cell)\n",
    "            return True\n",
    "        return False\n",
    "    def get_cells_occupied(self):\n",
    "        cells_occupied = []\n",
    "        for cell in self.cells:\n",
    "            cells_occupied.append(cell.get_name())\n",
    "        return cells_occupied\n",
    "        \n",
    "bread = Surface('bread',100)"
   ]
  },
  {
   "cell_type": "code",
   "execution_count": 139,
   "id": "e829be36-d517-4b07-9494-f050eeb97913",
   "metadata": {},
   "outputs": [
    {
     "data": {
      "text/plain": [
       "True"
      ]
     },
     "execution_count": 139,
     "metadata": {},
     "output_type": "execute_result"
    }
   ],
   "source": [
    "bread.add_cells(b)\n",
    "bread.add_cells(f)\n",
    "bread.add_cells(p)"
   ]
  },
  {
   "cell_type": "code",
   "execution_count": 140,
   "id": "bd9d93db-9523-4060-a31e-777869eefa11",
   "metadata": {},
   "outputs": [
    {
     "data": {
      "text/plain": [
       "['bacteria', 'fungi', 'plant']"
      ]
     },
     "execution_count": 140,
     "metadata": {},
     "output_type": "execute_result"
    }
   ],
   "source": [
    "bread.get_cells_occupied()"
   ]
  },
  {
   "cell_type": "code",
   "execution_count": 143,
   "id": "f8a39324-3925-4c75-9cc8-9a0488ac1f3d",
   "metadata": {},
   "outputs": [],
   "source": [
    "a = Cell('animal', 20, 10)"
   ]
  },
  {
   "cell_type": "code",
   "execution_count": 144,
   "id": "fec2a9a9-f706-4bca-b3f0-6b32d16b4f93",
   "metadata": {},
   "outputs": [
    {
     "data": {
      "text/plain": [
       "['bacteria', 'fungi', 'plant', 'animal']"
      ]
     },
     "execution_count": 144,
     "metadata": {},
     "output_type": "execute_result"
    }
   ],
   "source": [
    "bread.add_cells(a)\n",
    "bread.get_cells_occupied()"
   ]
  },
  {
   "cell_type": "code",
   "execution_count": null,
   "id": "d7912c0e-9248-4891-ab57-2f1f285f2e4f",
   "metadata": {},
   "outputs": [],
   "source": []
  }
 ],
 "metadata": {
  "kernelspec": {
   "display_name": "Python 3",
   "language": "python",
   "name": "python3"
  },
  "language_info": {
   "codemirror_mode": {
    "name": "ipython",
    "version": 3
   },
   "file_extension": ".py",
   "mimetype": "text/x-python",
   "name": "python",
   "nbconvert_exporter": "python",
   "pygments_lexer": "ipython3",
   "version": "3.8.8"
  }
 },
 "nbformat": 4,
 "nbformat_minor": 5
}
