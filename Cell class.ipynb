{
 "cells": [
  {
   "cell_type": "markdown",
   "id": "a5aaf892-0d72-47c8-9dcf-30b04bcc4b3d",
   "metadata": {},
   "source": [
    "# Cell class"
   ]
  },
  {
   "cell_type": "markdown",
   "id": "b28aa129-4b72-4fd8-a511-b7d3822f0c44",
   "metadata": {},
   "source": [
    "**Notebook Description:** This is the first notebook used to learn object oriented programming. As such, I created my first class of objects. I thought it would be cool to program the properties and behaviour of a cell. The smallest living thing in our world."
   ]
  },
  {
   "cell_type": "markdown",
   "id": "2661c1da-9529-4329-9b01-55d65da5f27f",
   "metadata": {},
   "source": [
    "### Class\n",
    "**Description:** A class is a blueprint or a template for creating objects. It defines a set of attributes (properties) and methods (functions) that characterise any object instantiated from that class. Classes encapsulate data and behavior related to a specific concept or entity.\n"
   ]
  },
  {
   "cell_type": "markdown",
   "id": "4f88079a-369e-4ff9-84fd-17d3c6ca655b",
   "metadata": {},
   "source": [
    "### Object\n",
    "**Description:** An object is an instance of a class. It represents a specific occurrence or realisation of the class, with its own set of attributes and methods."
   ]
  },
  {
   "cell_type": "markdown",
   "id": "ae8b98e6-9348-4e15-bc75-9f5a9fe5d559",
   "metadata": {},
   "source": [
    "### Attribute\n",
    "**Description:** An attribute is a variable that belongs to an object and defines a characteristic or property of that object. Attributes represent the state of an object.\n",
    "In the context of a class, attributes are defined within the class and are shared by all instances (objects) of that class."
   ]
  },
  {
   "cell_type": "markdown",
   "id": "05e2dfa1-ccaa-4c9a-aeea-93de1d2e394d",
   "metadata": {},
   "source": [
    "### Method\n",
    "**Description:** A method is a function that is associated with an object and defines the behavior of that object. Methods perform actions or provide services related to the object's state. Methods are defined within the class and can be called on instances of the class."
   ]
  },
  {
   "cell_type": "code",
   "execution_count": 107,
   "id": "f6c864b4-6b47-43c2-bdd5-8f7eddeae037",
   "metadata": {},
   "outputs": [],
   "source": [
    "# Object: anything\n",
    "class Cell:\n",
    "    # Attribute: attributes which makes the object unique from other objects in the class\n",
    "    def __init__(self, name, size, n): \n",
    "        self.name = name # type of cell \n",
    "        self.size = size # in micrometers\n",
    "        self.n = n \n",
    "    # Method: things that this class of objects can do \n",
    "    def replicate(self): # standard\n",
    "        return self.n *2\n",
    "    def move_to(self, x, y,dx,dy):\n",
    "        return (x+dx,y+dy)\n",
    "    def get_name(self): # get_info\n",
    "        return self.name\n",
    "    def get_size(self):\n",
    "        return self.size\n",
    "    def get_space_occupied(self):\n",
    "        return self.n*self.size\n",
    "f = Cell('fungi', 10, 80)\n",
    "p = Cell('plant', 100, 1)\n",
    "b = Cell('bacteria', 2, 19)"
   ]
  },
  {
   "cell_type": "code",
   "execution_count": 2,
   "id": "1da0c9ad-f452-4712-9fdf-a5c0825409ae",
   "metadata": {},
   "outputs": [
    {
     "data": {
      "text/plain": [
       "2"
      ]
     },
     "execution_count": 2,
     "metadata": {},
     "output_type": "execute_result"
    }
   ],
   "source": [
    "p.replicate()"
   ]
  },
  {
   "cell_type": "code",
   "execution_count": 3,
   "id": "6ab249b2-7312-4a3b-9cfb-b74d6e0e0867",
   "metadata": {},
   "outputs": [
    {
     "data": {
      "text/plain": [
       "(1, 2)"
      ]
     },
     "execution_count": 3,
     "metadata": {},
     "output_type": "execute_result"
    }
   ],
   "source": [
    "p.move_to(0,0,1,2)"
   ]
  },
  {
   "cell_type": "code",
   "execution_count": 4,
   "id": "1c70111e-a221-40b7-bf39-f21f7ee67973",
   "metadata": {},
   "outputs": [
    {
     "name": "stdout",
     "output_type": "stream",
     "text": [
      "bacteria\n",
      "plant\n",
      "fungi\n"
     ]
    },
    {
     "data": {
      "text/plain": [
       "800"
      ]
     },
     "execution_count": 4,
     "metadata": {},
     "output_type": "execute_result"
    }
   ],
   "source": [
    "print(b.get_name())\n",
    "print(p.get_name())\n",
    "print(f.get_name())\n",
    "f.get_space_occupied()"
   ]
  },
  {
   "cell_type": "markdown",
   "id": "cb0944a7-fa06-489b-8aa5-c59879715678",
   "metadata": {},
   "source": [
    "### Interacting classes\n",
    "**Description:** Interacting classes in object-oriented programming (OOP) involves instances of different classes collaborating to achieve a specific task or functionality. Interactions between classes often occur through method calls, where one class invokes a method of another class to perform a certain operation. Let's explore some common ways classes can interact:"
   ]
  },
  {
   "cell_type": "code",
   "execution_count": 5,
   "id": "b0a5c865-a4ef-4a35-9c68-36055847653e",
   "metadata": {},
   "outputs": [],
   "source": [
    "class Surface:\n",
    "    def __init__(self, name, max_space):\n",
    "        self.name = name\n",
    "        self.max_space = max_space\n",
    "        self.cells = [] # attribute which is not needed to be one of the arguments passed\n",
    "        #self.occupied_space = []\n",
    "    def add_cell(self,cell):\n",
    "        if self.max_space - sum(cell.get_space_occupied() for cell in self.cells) >= cell.get_space_occupied():\n",
    "            if cell not in self.cells:\n",
    "                self.cells.append(cell) \n",
    "            return True\n",
    "        return False\n",
    "    def get_cells_occupied(self):\n",
    "        cells_occupied = []\n",
    "        for cell in self.cells:\n",
    "            cells_occupied.append(cell.get_name())\n",
    "        return cells_occupied\n",
    "    def get_space_occupied(self):\n",
    "        return sum(cell.get_space_occupied() for cell in self.cells)\n",
    "        \n",
    "        \n",
    "        \n",
    "bread = Surface('bread',10000)"
   ]
  },
  {
   "cell_type": "code",
   "execution_count": 21,
   "id": "b2ae5bf6-d492-4f3a-9039-9b19614f8390",
   "metadata": {},
   "outputs": [
    {
     "data": {
      "text/plain": [
       "True"
      ]
     },
     "execution_count": 21,
     "metadata": {},
     "output_type": "execute_result"
    }
   ],
   "source": [
    "b1 = Cell('bacteria',2,5)\n",
    "bread.add_cell(b1)"
   ]
  },
  {
   "cell_type": "code",
   "execution_count": 22,
   "id": "e829be36-d517-4b07-9494-f050eeb97913",
   "metadata": {},
   "outputs": [
    {
     "data": {
      "text/plain": [
       "158"
      ]
     },
     "execution_count": 22,
     "metadata": {},
     "output_type": "execute_result"
    }
   ],
   "source": [
    "bread.get_space_occupied()"
   ]
  },
  {
   "cell_type": "code",
   "execution_count": 23,
   "id": "bd9d93db-9523-4060-a31e-777869eefa11",
   "metadata": {},
   "outputs": [
    {
     "data": {
      "text/plain": [
       "['bacteria', 'plant', 'bacteria', 'bacteria']"
      ]
     },
     "execution_count": 23,
     "metadata": {},
     "output_type": "execute_result"
    }
   ],
   "source": [
    "bread.get_cells_occupied()"
   ]
  },
  {
   "cell_type": "markdown",
   "id": "9c9fe1d9-0245-4874-9f69-e03cc85acdbb",
   "metadata": {},
   "source": [
    "### Inheritance\n",
    "**Description:** allows a class (called the subclass or derived class) to inherit the properties and behaviors of another class (called the superclass or base class)"
   ]
  },
  {
   "cell_type": "code",
   "execution_count": 101,
   "id": "1c191d03-683f-4366-9ae8-148c2e784920",
   "metadata": {},
   "outputs": [],
   "source": [
    "class Cell:\n",
    "    def __init__(self, name, size):\n",
    "        self.name = name\n",
    "        self.size = size\n",
    "    def get_name(self):\n",
    "        return self.name\n",
    "    def get_size(self):\n",
    "        return self.size\n",
    "    \n",
    "class Bacteria(Cell): \n",
    "    def __init__(self,name, size, dup_time): #\n",
    "        super().__init__(name, size) #\n",
    "        self.dup_time = dup_time\n",
    "    def show(self):\n",
    "        print(f'I am a {self.name} and I am {self.size} micrometers in size and I duplicate every {self.dup_time} minutes')\n",
    "    \n",
    "class Plant(Cell):\n",
    "    pass"
   ]
  },
  {
   "cell_type": "code",
   "execution_count": 102,
   "id": "9f0ce7e9-63da-454e-b00b-628c8b37bcf7",
   "metadata": {},
   "outputs": [
    {
     "name": "stdout",
     "output_type": "stream",
     "text": [
      "I am a bacteria and I am 10 micrometers in size and I duplicate every 8 minutes\n"
     ]
    }
   ],
   "source": [
    "b = Bacteria('bacteria', 10, 8)\n",
    "p = Plant('plant', 100)\n",
    "b.show()"
   ]
  },
  {
   "cell_type": "markdown",
   "id": "9353aa71-9d62-4772-9df6-5195a7730cdf",
   "metadata": {},
   "source": [
    "### Class attributes\n",
    "**Description:** Class attributes are like a global variable within a class that is the same for different objects and can be accessed with the class itself or any objects in the same class"
   ]
  },
  {
   "cell_type": "code",
   "execution_count": 103,
   "id": "707479c2-e554-41bc-8105-ed6ab5c7a982",
   "metadata": {},
   "outputs": [],
   "source": [
    "class Cell:\n",
    "    number_of_cells = 0 #class attribute\n",
    "    def __init__(self, name):\n",
    "        self.name = name"
   ]
  },
  {
   "cell_type": "code",
   "execution_count": 104,
   "id": "55f7fc53-54aa-4881-811c-49a4669e2e14",
   "metadata": {},
   "outputs": [
    {
     "name": "stdout",
     "output_type": "stream",
     "text": [
      "0\n",
      "0\n"
     ]
    }
   ],
   "source": [
    "b = Cell('bacteria')\n",
    "print(b.number_of_cells)\n",
    "print(Cell.number_of_cells)"
   ]
  },
  {
   "cell_type": "markdown",
   "id": "e2e28edd-616a-4766-820c-6a18298c12af",
   "metadata": {},
   "source": [
    "### Class methods\n",
    "**Description:** Class methods are methods used to access class attributes to modify or return it."
   ]
  },
  {
   "cell_type": "code",
   "execution_count": 105,
   "id": "001e880f-c899-4ca2-b8d0-de206ab529ab",
   "metadata": {},
   "outputs": [],
   "source": [
    "class Cell:\n",
    "    number_of_cells = 0 \n",
    "    def __init__(self, name):\n",
    "        self.name = name\n",
    "        Cell.add_cell() # operation within the init to update the number of cells \n",
    "    @classmethod \n",
    "    def number_of_cells_(cls):\n",
    "        return cls.number_of_cells\n",
    "    @classmethod\n",
    "    def add_cell(cls):\n",
    "        cls.number_of_cells +=1"
   ]
  },
  {
   "cell_type": "code",
   "execution_count": 98,
   "id": "52bb1f9f-9711-486b-83e8-2ede8f979be8",
   "metadata": {},
   "outputs": [
    {
     "name": "stdout",
     "output_type": "stream",
     "text": [
      "6\n"
     ]
    }
   ],
   "source": [
    "b = Cell('bacteria')\n",
    "p = Cell('platelets')\n",
    "print(Cell.number_of_cells_())"
   ]
  },
  {
   "cell_type": "code",
   "execution_count": 99,
   "id": "6c3f55f5-d883-4a1e-ae94-6220daec4d9c",
   "metadata": {},
   "outputs": [
    {
     "name": "stdout",
     "output_type": "stream",
     "text": [
      "6\n"
     ]
    }
   ],
   "source": [
    "print(Cell.number_of_cells)"
   ]
  },
  {
   "cell_type": "markdown",
   "id": "cd33724a-c228-4da8-a835-d79a0990627f",
   "metadata": {},
   "source": [
    "### Static Methods\n",
    "**Description:** Static methods in Python are methods that are bound to a class rather than an instance of the class. Its like setting a rule for objects in the class has to follow in the same way. "
   ]
  },
  {
   "cell_type": "code",
   "execution_count": 109,
   "id": "3611decf-d020-4850-957f-fa5eaa6b952b",
   "metadata": {},
   "outputs": [
    {
     "name": "stdout",
     "output_type": "stream",
     "text": [
      "8\n"
     ]
    }
   ],
   "source": [
    "class MathOperations:\n",
    "    @staticmethod\n",
    "    def add(x, y):\n",
    "        return x + y\n",
    "print(MathOperations.add(3, 5))\n"
   ]
  }
 ],
 "metadata": {
  "kernelspec": {
   "display_name": "Python 3",
   "language": "python",
   "name": "python3"
  },
  "language_info": {
   "codemirror_mode": {
    "name": "ipython",
    "version": 3
   },
   "file_extension": ".py",
   "mimetype": "text/x-python",
   "name": "python",
   "nbconvert_exporter": "python",
   "pygments_lexer": "ipython3",
   "version": "3.8.8"
  }
 },
 "nbformat": 4,
 "nbformat_minor": 5
}
